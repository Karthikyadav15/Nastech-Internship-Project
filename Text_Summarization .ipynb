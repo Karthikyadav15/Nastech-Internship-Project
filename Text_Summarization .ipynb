{
  "nbformat": 4,
  "nbformat_minor": 0,
  "metadata": {
    "colab": {
      "name": "Text Summarization.ipynb",
      "provenance": [],
      "collapsed_sections": []
    },
    "kernelspec": {
      "display_name": "Python 3",
      "language": "python",
      "name": "python3"
    },
    "language_info": {
      "codemirror_mode": {
        "name": "ipython",
        "version": 3
      },
      "file_extension": ".py",
      "mimetype": "text/x-python",
      "name": "python",
      "nbconvert_exporter": "python",
      "pygments_lexer": "ipython3",
      "version": "3.6.8"
    }
  },
  "cells": [
    {
      "cell_type": "markdown",
      "metadata": {
        "id": "JYw_m8QfMO12"
      },
      "source": [
        "<a href=\"http://colab.research.google.com/github/dipanjanS/nlp_workshop_odsc19/blob/master/Module05%20-%20NLP%20Applications/Project06%20-%20Text%20Summarization.ipynb\" target=\"_parent\"><img src=\"https://colab.research.google.com/assets/colab-badge.svg\" alt=\"Open In Colab\"/></a>"
      ]
    },
    {
      "cell_type": "markdown",
      "metadata": {
        "id": "9fimBLrwMO17"
      },
      "source": [
        " Text Summarization\n",
        "\n",
        "The idea of Text summarization is a\n",
        "bit different from keyphrase extraction or topic modeling. In this case, the end result\n",
        "is still in the form of some text, but with a few sentences based on the length we\n",
        "might want the summary to be. This is similar to an abstract or an executive summary\n",
        "in a research paper. The main objective of automated text summarization is\n",
        "to perform this summarization without involving human input, except for running\n",
        "computer programs. Mathematical and statistical models help in building and\n",
        "automating the task of summarizing documents by observing their content and context.\n",
        "\n",
        "There are two broad approaches to Text summarization using automated\n",
        "techniques. They are described as follows:\n",
        "- __Extraction-based techniques:__ These methods use mathematical\n",
        "and statistical concepts like SVD to extract some key subset of the\n",
        "content from the original text such that this subset of content\n",
        "contains the core information and acts as the focal point of the entire\n",
        "text. This content can be words, phrases, or even sentences.\n",
        "The end result from this approach is a short executive summary of a\n",
        "couple of lines extracted from the original text. No new content\n",
        "is generated in this technique, hence the name extraction-based.\n",
        "- __Abstraction-based techniques:__ These methods are more complex\n",
        "and sophisticated. They leverage language semantics to create\n",
        "representations and use natural language generation (NLG)\n",
        "techniques where the machine uses knowledge bases and semantic\n",
        "representations to generate text on its own and create summaries\n",
        "just like a human would write them. Thanks to deep learning, we can\n",
        "implement these techniques easily but they require a lot of data and\n",
        "compute.\n",
        "\n",
        "We will cover extraction based methods here due to constraints of needed a lot of data + compute for abstraction based methods. But you can leverage the seq2seq models you learnt in language translation on an appropriate dataset to build deep learning based abstractive summarizers"
      ]
    },
    {
      "cell_type": "markdown",
      "metadata": {
        "id": "LwFhjWppMO18"
      },
      "source": [
        "# Install necessary dependencies"
      ]
    },
    {
      "cell_type": "code",
      "metadata": {
        "colab": {
          "base_uri": "https://localhost:8080/",
          "height": 0
        },
        "id": "7TKqj2jxDWjN",
        "outputId": "559da8bc-c604-4807-fdb1-5fce5502b21d"
      },
      "source": [
        "import nltk\n",
        "nltk.download('punkt')\n",
        "nltk.download('stopwords')"
      ],
      "execution_count": 21,
      "outputs": [
        {
          "output_type": "stream",
          "name": "stdout",
          "text": [
            "[nltk_data] Downloading package punkt to /root/nltk_data...\n",
            "[nltk_data]   Package punkt is already up-to-date!\n",
            "[nltk_data] Downloading package stopwords to /root/nltk_data...\n",
            "[nltk_data]   Package stopwords is already up-to-date!\n"
          ]
        },
        {
          "output_type": "execute_result",
          "data": {
            "text/plain": [
              "True"
            ]
          },
          "metadata": {},
          "execution_count": 21
        }
      ]
    },
    {
      "cell_type": "markdown",
      "metadata": {
        "id": "WR19NcboMO1_"
      },
      "source": [
        "# Get Text Document\n",
        "\n",
        "We use the description of a very popular role-playing game (RPG) Skyrim from\n",
        "Bethesda Softworks for summarization. "
      ]
    },
    {
      "cell_type": "code",
      "metadata": {
        "id": "-sSrjtPxCZeq"
      },
      "source": [
        "DOCUMENT = \"\"\"coronaviruses are a type of virus. There are many different kinds, and some cause disease. A coronavirus identified in 2019, SARS-CoV-2, has caused a pandemic of respiratory illness, called COVID-19.As of now, researchers know that the coronavirus is spread through droplets and virus particles released into the air when an infected person breathes, talks, laughs, sings, coughs or sneezes. Larger droplets may fall to the ground in a few seconds, but tiny infectious particles can linger in the air and accumulate in indoor places, especially where many people are gathered and there is poor ventilation.\n",
        " This is why mask-wearing, hand hygiene and physical distancing are essential to preventing COVID-19.The first case of COVID-19 was reported Dec. 1, 2019, and the cause was a then-new coronavirus later named SARS-CoV-2. SARS-CoV-2 may have originated in an animal and changed (mutated) so it could cause illness in humans. In the past, several infectious disease outbreaks have been traced to viruses originating in birds, pigs, bats and other animals that mutated to become dangerous to humans. Research continues, and more study may reveal how and why the coronavirus evolved to cause pandemic disease.\n",
        " Symptoms show up in people within two to 14 days of exposure to the virus. A person infected with the coronavirus is contagious to others for up to two days before symptoms appear, and they remain contagious to others for 10 to 20 days, depending upon their immune system and the severity of their illness.COVID-19 symptoms include:\n",
        "\n",
        "Cough\n",
        "Fever or chills\n",
        "Shortness of breath or difficulty breathing\n",
        "Muscle or body aches\n",
        "Sore throat\n",
        "New loss of taste or smell\n",
        "Diarrhea\n",
        "Headache\n",
        "New fatigue\n",
        "Nausea or vomiting\n",
        "Congestion or runny nose\n",
        "Some people infected with the coronavirus have mild COVID-19 illness, and others have no symptoms at all. In some cases, however, COVID-19 can lead to respiratory failure, lasting lung and heart muscle damage, nervous system problems, kidney failure or death.\n",
        "If you have a fever or any of the symptoms listed above, call your doctor or a health care provider and explain your symptoms over the phone before going to the doctor’s office, urgent care facility or emergency room. Here are suggestions if you feel sick and are concerned you might have COVID-19.\n",
        "COVID-19 is diagnosed through a laboratory test. Diagnosis by examination alone is difficult since many COVID-19 signs and symptoms can be caused by other illnesses. Some people with the coronavirus do not have symptoms at all.\n",
        "Treatment for COVID-19 addresses the signs and symptoms of the infection and supports people with more severe disease. For mild cases of coronavirus disease, your doctor may recommend measures such as fever reducers or over-the-counter medications. More severe cases may require hospital care, where a patient may receive a combination of treatments that could include steroids, oxygen, mechanical breathing support and other COVID-19 treatments in development. Infusions of monoclonal antibodies given to certain patients early in the infection may reduce the symptoms, severity and duration of the illness.\n",
        "Yes, severe COVID-19 can be fatal. For updates of coronavirus infections, deaths and vaccinations worldwide, see the Coronavirus COVID-19 Global Cases map developed by the Johns Hopkins Center for Systems Science and Engineering.\n",
        "\n",
        "Coronaviruses are named for their appearance: “corona” means “crown.” The virus’s outer layers are covered with spike proteins that surround them like a crown.SARS stands for severe acute respiratory syndrome. In 2003, an outbreak of SARS affected people in several countries before ending in 2004. The coronavirus that causes COVID-19 is similar to the one that caused the 2003 SARS outbreak.\n",
        "\n",
        "Since the 2019 coronavirus is related to the original coronavirus that caused SARS and can also cause severe acute respiratory syndrome, there is “SARS” in its name: SARS-CoV-2. Much is still unknown about these viruses, but SARS-CoV-2 spreads faster and farther than the 2003 SARS-CoV-1 virus. This is likely because of how easily it is transmitted person to person, even from asymptomatic carriers of the virus.Yes, there are different variants of this coronavirus. Like other viruses, the coronavirus that causes COVID-19 can change (mutate). In December 2020, B.1.1.7, a new variant, was identified in the United Kingdom, and since then, variants have appeared in other locations around the world, including B.1.351, first isolated in South Africa, and others. Mutations may enable the coronavirus to spread faster from person to person, and may cause more severe disease. More infections can result in more people getting very sick and also create more opportunity for the virus to develop further mutations.\n",
        "\"\"\""
      ],
      "execution_count": 22,
      "outputs": []
    },
    {
      "cell_type": "code",
      "metadata": {
        "id": "-Sp4ZBphDBTy"
      },
      "source": [
        "import re\n",
        "\n",
        "DOCUMENT = re.sub(r'\\n|\\r', ' ', DOCUMENT)\n",
        "DOCUMENT = re.sub(r' +', ' ', DOCUMENT)\n",
        "DOCUMENT = DOCUMENT.strip()"
      ],
      "execution_count": 23,
      "outputs": []
    },
    {
      "cell_type": "markdown",
      "metadata": {
        "id": "8aOFESqZMO2E"
      },
      "source": [
        "# Summarization with Gensim\n",
        "\n",
        "Let’s look at an implementation of text summarization by leveraging Gensim’s\n",
        "summarization module. It is pretty straightforward."
      ]
    },
    {
      "cell_type": "code",
      "metadata": {
        "colab": {
          "base_uri": "https://localhost:8080/",
          "height": 0
        },
        "id": "fJfaklbaDGm3",
        "outputId": "8b912aff-4117-4ed2-8089-5da287e226e7"
      },
      "source": [
        "from gensim.summarization import summarize\n",
        "\n",
        "print(summarize(DOCUMENT, ratio=0.2, split=False))"
      ],
      "execution_count": 24,
      "outputs": [
        {
          "output_type": "stream",
          "name": "stdout",
          "text": [
            "A coronavirus identified in 2019, SARS-CoV-2, has caused a pandemic of respiratory illness, called COVID-19.As of now, researchers know that the coronavirus is spread through droplets and virus particles released into the air when an infected person breathes, talks, laughs, sings, coughs or sneezes.\n",
            "SARS-CoV-2 may have originated in an animal and changed (mutated) so it could cause illness in humans.\n",
            "A person infected with the coronavirus is contagious to others for up to two days before symptoms appear, and they remain contagious to others for 10 to 20 days, depending upon their immune system and the severity of their illness.COVID-19 symptoms include: Cough Fever or chills Shortness of breath or difficulty breathing Muscle or body aches Sore throat New loss of taste or smell Diarrhea Headache New fatigue Nausea or vomiting Congestion or runny nose Some people infected with the coronavirus have mild COVID-19 illness, and others have no symptoms at all.\n",
            "Treatment for COVID-19 addresses the signs and symptoms of the infection and supports people with more severe disease.\n",
            "Like other viruses, the coronavirus that causes COVID-19 can change (mutate).\n",
            "Mutations may enable the coronavirus to spread faster from person to person, and may cause more severe disease.\n"
          ]
        }
      ]
    },
    {
      "cell_type": "code",
      "metadata": {
        "colab": {
          "base_uri": "https://localhost:8080/",
          "height": 0
        },
        "id": "7H83_YvADI2j",
        "outputId": "d8f9b846-902d-4a0e-c7ef-6e6fc0f1752d"
      },
      "source": [
        "print(summarize(DOCUMENT, word_count=75, split=False))"
      ],
      "execution_count": 25,
      "outputs": [
        {
          "output_type": "stream",
          "name": "stdout",
          "text": [
            "A coronavirus identified in 2019, SARS-CoV-2, has caused a pandemic of respiratory illness, called COVID-19.As of now, researchers know that the coronavirus is spread through droplets and virus particles released into the air when an infected person breathes, talks, laughs, sings, coughs or sneezes.\n",
            "Treatment for COVID-19 addresses the signs and symptoms of the infection and supports people with more severe disease.\n",
            "Mutations may enable the coronavirus to spread faster from person to person, and may cause more severe disease.\n"
          ]
        }
      ]
    },
    {
      "cell_type": "code",
      "metadata": {
        "colab": {
          "base_uri": "https://localhost:8080/",
          "height": 0
        },
        "id": "N4ObNmxqDL1N",
        "outputId": "e78c0d8e-7d4d-4e91-a606-d69dfda6b3b3"
      },
      "source": [
        "sentences = nltk.sent_tokenize(DOCUMENT)\n",
        "len(sentences)"
      ],
      "execution_count": 26,
      "outputs": [
        {
          "output_type": "execute_result",
          "data": {
            "text/plain": [
              "32"
            ]
          },
          "metadata": {},
          "execution_count": 26
        }
      ]
    },
    {
      "cell_type": "markdown",
      "metadata": {
        "id": "C5ymSJxvMO2H"
      },
      "source": [
        "This summarization implementation from Gensim is based on a variation of\n",
        "a popular algorithm called TextRank. "
      ]
    },
    {
      "cell_type": "markdown",
      "metadata": {
        "id": "S2FdoCzNMO2I"
      },
      "source": [
        "# Basic Text pre-processing"
      ]
    },
    {
      "cell_type": "code",
      "metadata": {
        "colab": {
          "base_uri": "https://localhost:8080/",
          "height": 0
        },
        "id": "HWTCv0YQDPYR",
        "outputId": "4dfd602a-3f08-4026-d9a6-34cb17ddb116"
      },
      "source": [
        "import numpy as np\n",
        "\n",
        "stop_words = nltk.corpus.stopwords.words('english')\n",
        "\n",
        "def normalize_document(doc):\n",
        "    # lower case and remove special characters\\whitespaces\n",
        "    doc = re.sub(r'[^a-zA-Z\\s]', '', doc, re.I|re.A)\n",
        "    doc = doc.lower()\n",
        "    doc = doc.strip()\n",
        "    # tokenize document\n",
        "    tokens = nltk.word_tokenize(doc)\n",
        "    # filter stopwords out of document\n",
        "    filtered_tokens = [token for token in tokens if token not in stop_words]\n",
        "    # re-create document from filtered tokens\n",
        "    doc = ' '.join(filtered_tokens)\n",
        "    return doc\n",
        "\n",
        "normalize_corpus = np.vectorize(normalize_document)\n",
        "\n",
        "norm_sentences = normalize_corpus(sentences)\n",
        "norm_sentences[:3]"
      ],
      "execution_count": 27,
      "outputs": [
        {
          "output_type": "execute_result",
          "data": {
            "text/plain": [
              "array(['coronaviruses type virus', 'many different kinds cause disease',\n",
              "       'coronavirus identified sarscov caused pandemic respiratory illness called covidas researchers know coronavirus spread droplets virus particles released air infected person breathes talks laughs sings coughs sneezes'],\n",
              "      dtype='<U407')"
            ]
          },
          "metadata": {},
          "execution_count": 27
        }
      ]
    },
    {
      "cell_type": "markdown",
      "metadata": {
        "id": "xlA0lEDaMO2J"
      },
      "source": [
        "# Text Representation with Feature Engineering\n",
        "\n",
        "We will be vectorizing our normalized sentences using the TF-IDF feature engineering\n",
        "scheme. We keep things simple and don’t filter out any words based on document\n",
        "frequency. But feel free to try that out and maybe even leverage n-grams as features."
      ]
    },
    {
      "cell_type": "code",
      "metadata": {
        "colab": {
          "base_uri": "https://localhost:8080/",
          "height": 435
        },
        "id": "-aGDxNQyDpiY",
        "outputId": "9a65a607-a89b-4398-a34f-4f71cab06307"
      },
      "source": [
        "from sklearn.feature_extraction.text import TfidfVectorizer\n",
        "import pandas as pd\n",
        "\n",
        "tv = TfidfVectorizer(min_df=0., max_df=1., use_idf=True)\n",
        "dt_matrix = tv.fit_transform(norm_sentences)\n",
        "dt_matrix = dt_matrix.toarray()\n",
        "\n",
        "vocab = tv.get_feature_names()\n",
        "td_matrix = dt_matrix.T\n",
        "print(td_matrix.shape)\n",
        "pd.DataFrame(np.round(td_matrix, 2), index=vocab).head(10)"
      ],
      "execution_count": 28,
      "outputs": [
        {
          "output_type": "stream",
          "name": "stdout",
          "text": [
            "(281, 32)\n"
          ]
        },
        {
          "output_type": "stream",
          "name": "stderr",
          "text": [
            "/usr/local/lib/python3.7/dist-packages/sklearn/utils/deprecation.py:87: FutureWarning: Function get_feature_names is deprecated; get_feature_names is deprecated in 1.0 and will be removed in 1.2. Please use get_feature_names_out instead.\n",
            "  warnings.warn(msg, category=FutureWarning)\n"
          ]
        },
        {
          "output_type": "execute_result",
          "data": {
            "text/html": [
              "<div>\n",
              "<style scoped>\n",
              "    .dataframe tbody tr th:only-of-type {\n",
              "        vertical-align: middle;\n",
              "    }\n",
              "\n",
              "    .dataframe tbody tr th {\n",
              "        vertical-align: top;\n",
              "    }\n",
              "\n",
              "    .dataframe thead th {\n",
              "        text-align: right;\n",
              "    }\n",
              "</style>\n",
              "<table border=\"1\" class=\"dataframe\">\n",
              "  <thead>\n",
              "    <tr style=\"text-align: right;\">\n",
              "      <th></th>\n",
              "      <th>0</th>\n",
              "      <th>1</th>\n",
              "      <th>2</th>\n",
              "      <th>3</th>\n",
              "      <th>4</th>\n",
              "      <th>5</th>\n",
              "      <th>6</th>\n",
              "      <th>7</th>\n",
              "      <th>8</th>\n",
              "      <th>9</th>\n",
              "      <th>10</th>\n",
              "      <th>11</th>\n",
              "      <th>12</th>\n",
              "      <th>13</th>\n",
              "      <th>14</th>\n",
              "      <th>15</th>\n",
              "      <th>16</th>\n",
              "      <th>17</th>\n",
              "      <th>18</th>\n",
              "      <th>19</th>\n",
              "      <th>20</th>\n",
              "      <th>21</th>\n",
              "      <th>22</th>\n",
              "      <th>23</th>\n",
              "      <th>24</th>\n",
              "      <th>25</th>\n",
              "      <th>26</th>\n",
              "      <th>27</th>\n",
              "      <th>28</th>\n",
              "      <th>29</th>\n",
              "      <th>30</th>\n",
              "      <th>31</th>\n",
              "    </tr>\n",
              "  </thead>\n",
              "  <tbody>\n",
              "    <tr>\n",
              "      <th>accumulate</th>\n",
              "      <td>0.0</td>\n",
              "      <td>0.0</td>\n",
              "      <td>0.0</td>\n",
              "      <td>0.24</td>\n",
              "      <td>0.0</td>\n",
              "      <td>0.00</td>\n",
              "      <td>0.0</td>\n",
              "      <td>0.0</td>\n",
              "      <td>0.0</td>\n",
              "      <td>0.00</td>\n",
              "      <td>0.0</td>\n",
              "      <td>0.0</td>\n",
              "      <td>0.0</td>\n",
              "      <td>0.0</td>\n",
              "      <td>0.00</td>\n",
              "      <td>0.0</td>\n",
              "      <td>0.00</td>\n",
              "      <td>0.0</td>\n",
              "      <td>0.0</td>\n",
              "      <td>0.0</td>\n",
              "      <td>0.0</td>\n",
              "      <td>0.0</td>\n",
              "      <td>0.00</td>\n",
              "      <td>0.00</td>\n",
              "      <td>0.0</td>\n",
              "      <td>0.00</td>\n",
              "      <td>0.0</td>\n",
              "      <td>0.0</td>\n",
              "      <td>0.0</td>\n",
              "      <td>0.00</td>\n",
              "      <td>0.0</td>\n",
              "      <td>0.0</td>\n",
              "    </tr>\n",
              "    <tr>\n",
              "      <th>aches</th>\n",
              "      <td>0.0</td>\n",
              "      <td>0.0</td>\n",
              "      <td>0.0</td>\n",
              "      <td>0.00</td>\n",
              "      <td>0.0</td>\n",
              "      <td>0.00</td>\n",
              "      <td>0.0</td>\n",
              "      <td>0.0</td>\n",
              "      <td>0.0</td>\n",
              "      <td>0.13</td>\n",
              "      <td>0.0</td>\n",
              "      <td>0.0</td>\n",
              "      <td>0.0</td>\n",
              "      <td>0.0</td>\n",
              "      <td>0.00</td>\n",
              "      <td>0.0</td>\n",
              "      <td>0.00</td>\n",
              "      <td>0.0</td>\n",
              "      <td>0.0</td>\n",
              "      <td>0.0</td>\n",
              "      <td>0.0</td>\n",
              "      <td>0.0</td>\n",
              "      <td>0.00</td>\n",
              "      <td>0.00</td>\n",
              "      <td>0.0</td>\n",
              "      <td>0.00</td>\n",
              "      <td>0.0</td>\n",
              "      <td>0.0</td>\n",
              "      <td>0.0</td>\n",
              "      <td>0.00</td>\n",
              "      <td>0.0</td>\n",
              "      <td>0.0</td>\n",
              "    </tr>\n",
              "    <tr>\n",
              "      <th>acute</th>\n",
              "      <td>0.0</td>\n",
              "      <td>0.0</td>\n",
              "      <td>0.0</td>\n",
              "      <td>0.00</td>\n",
              "      <td>0.0</td>\n",
              "      <td>0.00</td>\n",
              "      <td>0.0</td>\n",
              "      <td>0.0</td>\n",
              "      <td>0.0</td>\n",
              "      <td>0.00</td>\n",
              "      <td>0.0</td>\n",
              "      <td>0.0</td>\n",
              "      <td>0.0</td>\n",
              "      <td>0.0</td>\n",
              "      <td>0.00</td>\n",
              "      <td>0.0</td>\n",
              "      <td>0.00</td>\n",
              "      <td>0.0</td>\n",
              "      <td>0.0</td>\n",
              "      <td>0.0</td>\n",
              "      <td>0.0</td>\n",
              "      <td>0.0</td>\n",
              "      <td>0.21</td>\n",
              "      <td>0.00</td>\n",
              "      <td>0.0</td>\n",
              "      <td>0.25</td>\n",
              "      <td>0.0</td>\n",
              "      <td>0.0</td>\n",
              "      <td>0.0</td>\n",
              "      <td>0.00</td>\n",
              "      <td>0.0</td>\n",
              "      <td>0.0</td>\n",
              "    </tr>\n",
              "    <tr>\n",
              "      <th>addresses</th>\n",
              "      <td>0.0</td>\n",
              "      <td>0.0</td>\n",
              "      <td>0.0</td>\n",
              "      <td>0.00</td>\n",
              "      <td>0.0</td>\n",
              "      <td>0.00</td>\n",
              "      <td>0.0</td>\n",
              "      <td>0.0</td>\n",
              "      <td>0.0</td>\n",
              "      <td>0.00</td>\n",
              "      <td>0.0</td>\n",
              "      <td>0.0</td>\n",
              "      <td>0.0</td>\n",
              "      <td>0.0</td>\n",
              "      <td>0.00</td>\n",
              "      <td>0.0</td>\n",
              "      <td>0.39</td>\n",
              "      <td>0.0</td>\n",
              "      <td>0.0</td>\n",
              "      <td>0.0</td>\n",
              "      <td>0.0</td>\n",
              "      <td>0.0</td>\n",
              "      <td>0.00</td>\n",
              "      <td>0.00</td>\n",
              "      <td>0.0</td>\n",
              "      <td>0.00</td>\n",
              "      <td>0.0</td>\n",
              "      <td>0.0</td>\n",
              "      <td>0.0</td>\n",
              "      <td>0.00</td>\n",
              "      <td>0.0</td>\n",
              "      <td>0.0</td>\n",
              "    </tr>\n",
              "    <tr>\n",
              "      <th>affected</th>\n",
              "      <td>0.0</td>\n",
              "      <td>0.0</td>\n",
              "      <td>0.0</td>\n",
              "      <td>0.00</td>\n",
              "      <td>0.0</td>\n",
              "      <td>0.00</td>\n",
              "      <td>0.0</td>\n",
              "      <td>0.0</td>\n",
              "      <td>0.0</td>\n",
              "      <td>0.00</td>\n",
              "      <td>0.0</td>\n",
              "      <td>0.0</td>\n",
              "      <td>0.0</td>\n",
              "      <td>0.0</td>\n",
              "      <td>0.00</td>\n",
              "      <td>0.0</td>\n",
              "      <td>0.00</td>\n",
              "      <td>0.0</td>\n",
              "      <td>0.0</td>\n",
              "      <td>0.0</td>\n",
              "      <td>0.0</td>\n",
              "      <td>0.0</td>\n",
              "      <td>0.00</td>\n",
              "      <td>0.42</td>\n",
              "      <td>0.0</td>\n",
              "      <td>0.00</td>\n",
              "      <td>0.0</td>\n",
              "      <td>0.0</td>\n",
              "      <td>0.0</td>\n",
              "      <td>0.00</td>\n",
              "      <td>0.0</td>\n",
              "      <td>0.0</td>\n",
              "    </tr>\n",
              "    <tr>\n",
              "      <th>africa</th>\n",
              "      <td>0.0</td>\n",
              "      <td>0.0</td>\n",
              "      <td>0.0</td>\n",
              "      <td>0.00</td>\n",
              "      <td>0.0</td>\n",
              "      <td>0.00</td>\n",
              "      <td>0.0</td>\n",
              "      <td>0.0</td>\n",
              "      <td>0.0</td>\n",
              "      <td>0.00</td>\n",
              "      <td>0.0</td>\n",
              "      <td>0.0</td>\n",
              "      <td>0.0</td>\n",
              "      <td>0.0</td>\n",
              "      <td>0.00</td>\n",
              "      <td>0.0</td>\n",
              "      <td>0.00</td>\n",
              "      <td>0.0</td>\n",
              "      <td>0.0</td>\n",
              "      <td>0.0</td>\n",
              "      <td>0.0</td>\n",
              "      <td>0.0</td>\n",
              "      <td>0.00</td>\n",
              "      <td>0.00</td>\n",
              "      <td>0.0</td>\n",
              "      <td>0.00</td>\n",
              "      <td>0.0</td>\n",
              "      <td>0.0</td>\n",
              "      <td>0.0</td>\n",
              "      <td>0.25</td>\n",
              "      <td>0.0</td>\n",
              "      <td>0.0</td>\n",
              "    </tr>\n",
              "    <tr>\n",
              "      <th>air</th>\n",
              "      <td>0.0</td>\n",
              "      <td>0.0</td>\n",
              "      <td>0.2</td>\n",
              "      <td>0.21</td>\n",
              "      <td>0.0</td>\n",
              "      <td>0.00</td>\n",
              "      <td>0.0</td>\n",
              "      <td>0.0</td>\n",
              "      <td>0.0</td>\n",
              "      <td>0.00</td>\n",
              "      <td>0.0</td>\n",
              "      <td>0.0</td>\n",
              "      <td>0.0</td>\n",
              "      <td>0.0</td>\n",
              "      <td>0.00</td>\n",
              "      <td>0.0</td>\n",
              "      <td>0.00</td>\n",
              "      <td>0.0</td>\n",
              "      <td>0.0</td>\n",
              "      <td>0.0</td>\n",
              "      <td>0.0</td>\n",
              "      <td>0.0</td>\n",
              "      <td>0.00</td>\n",
              "      <td>0.00</td>\n",
              "      <td>0.0</td>\n",
              "      <td>0.00</td>\n",
              "      <td>0.0</td>\n",
              "      <td>0.0</td>\n",
              "      <td>0.0</td>\n",
              "      <td>0.00</td>\n",
              "      <td>0.0</td>\n",
              "      <td>0.0</td>\n",
              "    </tr>\n",
              "    <tr>\n",
              "      <th>alone</th>\n",
              "      <td>0.0</td>\n",
              "      <td>0.0</td>\n",
              "      <td>0.0</td>\n",
              "      <td>0.00</td>\n",
              "      <td>0.0</td>\n",
              "      <td>0.00</td>\n",
              "      <td>0.0</td>\n",
              "      <td>0.0</td>\n",
              "      <td>0.0</td>\n",
              "      <td>0.00</td>\n",
              "      <td>0.0</td>\n",
              "      <td>0.0</td>\n",
              "      <td>0.0</td>\n",
              "      <td>0.0</td>\n",
              "      <td>0.35</td>\n",
              "      <td>0.0</td>\n",
              "      <td>0.00</td>\n",
              "      <td>0.0</td>\n",
              "      <td>0.0</td>\n",
              "      <td>0.0</td>\n",
              "      <td>0.0</td>\n",
              "      <td>0.0</td>\n",
              "      <td>0.00</td>\n",
              "      <td>0.00</td>\n",
              "      <td>0.0</td>\n",
              "      <td>0.00</td>\n",
              "      <td>0.0</td>\n",
              "      <td>0.0</td>\n",
              "      <td>0.0</td>\n",
              "      <td>0.00</td>\n",
              "      <td>0.0</td>\n",
              "      <td>0.0</td>\n",
              "    </tr>\n",
              "    <tr>\n",
              "      <th>also</th>\n",
              "      <td>0.0</td>\n",
              "      <td>0.0</td>\n",
              "      <td>0.0</td>\n",
              "      <td>0.00</td>\n",
              "      <td>0.0</td>\n",
              "      <td>0.00</td>\n",
              "      <td>0.0</td>\n",
              "      <td>0.0</td>\n",
              "      <td>0.0</td>\n",
              "      <td>0.00</td>\n",
              "      <td>0.0</td>\n",
              "      <td>0.0</td>\n",
              "      <td>0.0</td>\n",
              "      <td>0.0</td>\n",
              "      <td>0.00</td>\n",
              "      <td>0.0</td>\n",
              "      <td>0.00</td>\n",
              "      <td>0.0</td>\n",
              "      <td>0.0</td>\n",
              "      <td>0.0</td>\n",
              "      <td>0.0</td>\n",
              "      <td>0.0</td>\n",
              "      <td>0.00</td>\n",
              "      <td>0.00</td>\n",
              "      <td>0.0</td>\n",
              "      <td>0.25</td>\n",
              "      <td>0.0</td>\n",
              "      <td>0.0</td>\n",
              "      <td>0.0</td>\n",
              "      <td>0.00</td>\n",
              "      <td>0.0</td>\n",
              "      <td>0.3</td>\n",
              "    </tr>\n",
              "    <tr>\n",
              "      <th>animal</th>\n",
              "      <td>0.0</td>\n",
              "      <td>0.0</td>\n",
              "      <td>0.0</td>\n",
              "      <td>0.00</td>\n",
              "      <td>0.0</td>\n",
              "      <td>0.37</td>\n",
              "      <td>0.0</td>\n",
              "      <td>0.0</td>\n",
              "      <td>0.0</td>\n",
              "      <td>0.00</td>\n",
              "      <td>0.0</td>\n",
              "      <td>0.0</td>\n",
              "      <td>0.0</td>\n",
              "      <td>0.0</td>\n",
              "      <td>0.00</td>\n",
              "      <td>0.0</td>\n",
              "      <td>0.00</td>\n",
              "      <td>0.0</td>\n",
              "      <td>0.0</td>\n",
              "      <td>0.0</td>\n",
              "      <td>0.0</td>\n",
              "      <td>0.0</td>\n",
              "      <td>0.00</td>\n",
              "      <td>0.00</td>\n",
              "      <td>0.0</td>\n",
              "      <td>0.00</td>\n",
              "      <td>0.0</td>\n",
              "      <td>0.0</td>\n",
              "      <td>0.0</td>\n",
              "      <td>0.00</td>\n",
              "      <td>0.0</td>\n",
              "      <td>0.0</td>\n",
              "    </tr>\n",
              "  </tbody>\n",
              "</table>\n",
              "</div>"
            ],
            "text/plain": [
              "             0    1    2     3    4     5   ...   26   27   28    29   30   31\n",
              "accumulate  0.0  0.0  0.0  0.24  0.0  0.00  ...  0.0  0.0  0.0  0.00  0.0  0.0\n",
              "aches       0.0  0.0  0.0  0.00  0.0  0.00  ...  0.0  0.0  0.0  0.00  0.0  0.0\n",
              "acute       0.0  0.0  0.0  0.00  0.0  0.00  ...  0.0  0.0  0.0  0.00  0.0  0.0\n",
              "addresses   0.0  0.0  0.0  0.00  0.0  0.00  ...  0.0  0.0  0.0  0.00  0.0  0.0\n",
              "affected    0.0  0.0  0.0  0.00  0.0  0.00  ...  0.0  0.0  0.0  0.00  0.0  0.0\n",
              "africa      0.0  0.0  0.0  0.00  0.0  0.00  ...  0.0  0.0  0.0  0.25  0.0  0.0\n",
              "air         0.0  0.0  0.2  0.21  0.0  0.00  ...  0.0  0.0  0.0  0.00  0.0  0.0\n",
              "alone       0.0  0.0  0.0  0.00  0.0  0.00  ...  0.0  0.0  0.0  0.00  0.0  0.0\n",
              "also        0.0  0.0  0.0  0.00  0.0  0.00  ...  0.0  0.0  0.0  0.00  0.0  0.3\n",
              "animal      0.0  0.0  0.0  0.00  0.0  0.37  ...  0.0  0.0  0.0  0.00  0.0  0.0\n",
              "\n",
              "[10 rows x 32 columns]"
            ]
          },
          "metadata": {},
          "execution_count": 28
        }
      ]
    },
    {
      "cell_type": "markdown",
      "metadata": {
        "id": "FL4jqOpnMO2K"
      },
      "source": [
        "# Latent Semantic Analysis\n",
        "\n",
        "Here, we summarize our game description by utilizing document sentences. The\n",
        "terms in each sentence of the document have been extracted to form the term-document matrix, which we observed in the previous cell. \n",
        "\n",
        "We apply low-rank Singular Value Decomposition to this matrix. The core principle behind Latent Semantic Analysis (LSA) is that in any document, there exists a latent structure among terms that are related\n",
        "contextually and hence should also be correlated in the same singular space.\n",
        "\n",
        "The main idea in our implementation is to use SVD (recall M = USVT) so that U\n",
        "and V are the orthogonal matrices and S is the diagonal matrix, which can also be\n",
        "represented as a vector of the singular values. \n",
        "\n",
        "The original matrix can be represented as\n",
        "a term-document matrix where the rows are terms and each column is a document, i.e.,\n",
        "a sentence from our document in this case. The values can be any type of weighting like\n",
        "Bag of Words model-based frequencies, TF-IDFs, or binary occurrences.\n",
        "\n",
        "![](https://i.imgur.com/YtopNr3.png)"
      ]
    },
    {
      "cell_type": "code",
      "metadata": {
        "id": "gLmDllaUDxIV"
      },
      "source": [
        "from scipy.sparse.linalg import svds\n",
        "    \n",
        "def low_rank_svd(matrix, singular_count=2):\n",
        "    u, s, vt = svds(matrix, k=singular_count)\n",
        "    return u, s, vt"
      ],
      "execution_count": 29,
      "outputs": []
    },
    {
      "cell_type": "code",
      "metadata": {
        "colab": {
          "base_uri": "https://localhost:8080/",
          "height": 0
        },
        "id": "dnkxRcQ8D08f",
        "outputId": "e327e68a-7f70-470d-c4d5-e43a358df74d"
      },
      "source": [
        "num_sentences = 8\n",
        "num_topics = 3\n",
        "\n",
        "u, s, vt = low_rank_svd(td_matrix, singular_count=num_topics)  \n",
        "print(u.shape, s.shape, vt.shape)\n",
        "term_topic_mat, singular_values, topic_document_mat = u, s, vt"
      ],
      "execution_count": 30,
      "outputs": [
        {
          "output_type": "stream",
          "name": "stdout",
          "text": [
            "(281, 3) (3,) (3, 32)\n"
          ]
        }
      ]
    },
    {
      "cell_type": "code",
      "metadata": {
        "id": "6Bo45Qj3D5SD"
      },
      "source": [
        "# remove singular values below threshold                                         \n",
        "sv_threshold = 0.5\n",
        "min_sigma_value = max(singular_values) * sv_threshold\n",
        "singular_values[singular_values < min_sigma_value] = 0"
      ],
      "execution_count": 31,
      "outputs": []
    },
    {
      "cell_type": "code",
      "metadata": {
        "colab": {
          "base_uri": "https://localhost:8080/",
          "height": 0
        },
        "id": "1ItEFwCXD8qk",
        "outputId": "475d135e-74f9-4603-e45c-5a3592218caf"
      },
      "source": [
        "salience_scores = np.sqrt(np.dot(np.square(singular_values), \n",
        "                                 np.square(topic_document_mat)))\n",
        "salience_scores"
      ],
      "execution_count": 32,
      "outputs": [
        {
          "output_type": "execute_result",
          "data": {
            "text/plain": [
              "array([0.11348978, 0.44531554, 0.4021708 , 0.23756049, 0.29954116,\n",
              "       0.48245859, 0.20870657, 0.52951637, 0.62341143, 0.53362203,\n",
              "       0.13122933, 0.38377585, 0.17513233, 0.1946512 , 0.35763233,\n",
              "       0.7548632 , 0.53007674, 0.39557111, 0.30740027, 0.35564197,\n",
              "       0.26730856, 0.25780765, 0.26440005, 0.44086094, 0.71430503,\n",
              "       0.64056528, 0.23948274, 0.34131334, 0.48129078, 0.08825606,\n",
              "       0.6907127 , 0.25507288])"
            ]
          },
          "metadata": {},
          "execution_count": 32
        }
      ]
    },
    {
      "cell_type": "code",
      "metadata": {
        "id": "xn9EjCGpFRCH"
      },
      "source": [
        "top_sentence_indices = (-salience_scores).argsort()[:num_sentences]\n",
        "top_sentence_indices.sort()"
      ],
      "execution_count": 33,
      "outputs": []
    },
    {
      "cell_type": "code",
      "metadata": {
        "colab": {
          "base_uri": "https://localhost:8080/",
          "height": 0
        },
        "id": "QLjP9KgbFUNi",
        "outputId": "a009a900-00cf-4251-8fd6-a0e5ec37a648"
      },
      "source": [
        "print('\\n'.join(np.array(sentences)[top_sentence_indices]))"
      ],
      "execution_count": 34,
      "outputs": [
        {
          "output_type": "stream",
          "name": "stdout",
          "text": [
            "Research continues, and more study may reveal how and why the coronavirus evolved to cause pandemic disease.\n",
            "Symptoms show up in people within two to 14 days of exposure to the virus.\n",
            "A person infected with the coronavirus is contagious to others for up to two days before symptoms appear, and they remain contagious to others for 10 to 20 days, depending upon their immune system and the severity of their illness.COVID-19 symptoms include: Cough Fever or chills Shortness of breath or difficulty breathing Muscle or body aches Sore throat New loss of taste or smell Diarrhea Headache New fatigue Nausea or vomiting Congestion or runny nose Some people infected with the coronavirus have mild COVID-19 illness, and others have no symptoms at all.\n",
            "Some people with the coronavirus do not have symptoms at all.\n",
            "Treatment for COVID-19 addresses the signs and symptoms of the infection and supports people with more severe disease.\n",
            "The coronavirus that causes COVID-19 is similar to the one that caused the 2003 SARS outbreak.\n",
            "Since the 2019 coronavirus is related to the original coronavirus that caused SARS and can also cause severe acute respiratory syndrome, there is “SARS” in its name: SARS-CoV-2.\n",
            "Mutations may enable the coronavirus to spread faster from person to person, and may cause more severe disease.\n"
          ]
        }
      ]
    },
    {
      "cell_type": "markdown",
      "metadata": {
        "id": "d3DdkHSoMO2O"
      },
      "source": [
        "# TextRank\n",
        "\n",
        "The TextRank summarization algorithm internally uses the popular PageRank\n",
        "algorithm, which is used by Google for ranking websites and pages. This is used by the\n",
        "Google search engine when providing relevant web pages based on search queries. To\n",
        "understand TextRank better, we need to understand some of the concepts surrounding\n",
        "PageRank. The core algorithm in PageRank is a graph-based scoring or ranking\n",
        "algorithm, where pages are scored or ranked based on their importance. \n",
        "\n",
        "Websites and\n",
        "pages contain further links embedded in them which link to more pages having more\n",
        "links and this continues across the Internet. This can be represented as a graph-based\n",
        "model where vertices indicate the web pages and edges indicate links among them. This\n",
        "can be used to form a voting or recommendation system such so when one vertex links\n",
        "to another one in the graph it is basically casting a vote. \n",
        "\n",
        "Vertex importance is decided\n",
        "not only on the number of votes or edges but also the importance of the vertices that are\n",
        "connected to it and their importance. \n",
        "\n",
        "![](https://i.imgur.com/fMyJjUN.png)\n",
        "\n",
        "We can see that vertex denoting Page C has a higher score than\n",
        "Page E even if it has fewer edges compared to Page E, because Page B is an important\n",
        "page connected to Page C.\n",
        "\n",
        "For textrank we will follow a similar process leveraging pagerank\n",
        "\n",
        "![](https://i.imgur.com/kkrzeq7.png)\n",
        "\n",
        "- Tokenize and extract sentences from the document to be\n",
        "summarized.\n",
        "- Decide on the number of sentences, k, that we want in the final\n",
        "summary\n",
        "- Build a document-term feature matrix using weights like TF-IDF\n",
        "or Bag of Words.\n",
        "- Compute a document similarity matrix by multiplying the matrix\n",
        "by its transpose.\n",
        "- Use these documents (sentences in our case) as the vertices and\n",
        "the similarities between each pair of documents as the weight\n",
        "or score coefficient we talked about earlier and feed them to the\n",
        "PageRank algorithm.\n",
        "- Get the score for each sentence.\n",
        "- Rank the sentences based on score and return the top k sentences."
      ]
    },
    {
      "cell_type": "markdown",
      "metadata": {
        "id": "vTvUK73XMO2O"
      },
      "source": [
        "# Build Similarity Matrix"
      ]
    },
    {
      "cell_type": "code",
      "metadata": {
        "colab": {
          "base_uri": "https://localhost:8080/",
          "height": 0
        },
        "id": "iwy27oUUFVwC",
        "outputId": "4a302e9b-ccc2-4584-cf3f-4008325ebd24"
      },
      "source": [
        "similarity_matrix = np.matmul(dt_matrix, dt_matrix.T)\n",
        "print(similarity_matrix.shape)\n",
        "np.round(similarity_matrix, 3)"
      ],
      "execution_count": 35,
      "outputs": [
        {
          "output_type": "stream",
          "name": "stdout",
          "text": [
            "(32, 32)\n"
          ]
        },
        {
          "output_type": "execute_result",
          "data": {
            "text/plain": [
              "array([[1.   , 0.   , 0.073, ..., 0.   , 0.   , 0.11 ],\n",
              "       [0.   , 1.   , 0.   , ..., 0.   , 0.164, 0.   ],\n",
              "       [0.073, 0.   , 1.   , ..., 0.043, 0.18 , 0.037],\n",
              "       ...,\n",
              "       [0.   , 0.   , 0.043, ..., 1.   , 0.   , 0.   ],\n",
              "       [0.   , 0.164, 0.18 , ..., 0.   , 1.   , 0.089],\n",
              "       [0.11 , 0.   , 0.037, ..., 0.   , 0.089, 1.   ]])"
            ]
          },
          "metadata": {},
          "execution_count": 35
        }
      ]
    },
    {
      "cell_type": "markdown",
      "metadata": {
        "id": "yaD3A-Z_MO2P"
      },
      "source": [
        "# Build Similarity Graph"
      ]
    },
    {
      "cell_type": "code",
      "metadata": {
        "colab": {
          "base_uri": "https://localhost:8080/",
          "height": 0
        },
        "id": "3XKLLMxVFZFu",
        "outputId": "deea485d-e200-42b7-d50d-05a97166cd15"
      },
      "source": [
        "import networkx\n",
        "\n",
        "similarity_graph = networkx.from_numpy_array(similarity_matrix)\n",
        "similarity_graph"
      ],
      "execution_count": 36,
      "outputs": [
        {
          "output_type": "execute_result",
          "data": {
            "text/plain": [
              "<networkx.classes.graph.Graph at 0x7f334ed5cdd0>"
            ]
          },
          "metadata": {},
          "execution_count": 36
        }
      ]
    },
    {
      "cell_type": "code",
      "metadata": {
        "colab": {
          "base_uri": "https://localhost:8080/",
          "height": 357
        },
        "id": "s8hGp-gQFbOs",
        "outputId": "e4228707-ca6f-401f-e1ee-bb863dac5d45"
      },
      "source": [
        "import matplotlib.pyplot as plt\n",
        "%matplotlib inline\n",
        "\n",
        "plt.figure(figsize=(12, 6))\n",
        "networkx.draw_networkx(similarity_graph, node_color='lime')"
      ],
      "execution_count": 37,
      "outputs": [
        {
          "output_type": "display_data",
          "data": {
            "image/png": "[encoded data removed]",
            "text/plain": [
              "<Figure size 864x432 with 1 Axes>"
            ]
          },
          "metadata": {}
        }
      ]
    },
    {
      "cell_type": "markdown",
      "metadata": {
        "id": "S9CBgLDfMO2Q"
      },
      "source": [
        "# Get Sentence Importance Scores"
      ]
    },
    {
      "cell_type": "code",
      "metadata": {
        "colab": {
          "base_uri": "https://localhost:8080/",
          "height": 0
        },
        "id": "l9M9Wz2lFdej",
        "outputId": "a0fe8e60-5172-4202-b4f7-090b4233e2f3"
      },
      "source": [
        "scores = networkx.pagerank(similarity_graph)\n",
        "ranked_sentences = sorted(((score, index) for index, score \n",
        "                                            in scores.items()), \n",
        "                          reverse=True)\n",
        "ranked_sentences[:10]"
      ],
      "execution_count": 38,
      "outputs": [
        {
          "output_type": "execute_result",
          "data": {
            "text/plain": [
              "[(0.04748316948462508, 15),\n",
              " (0.04424923139555843, 30),\n",
              " (0.04293081835367438, 25),\n",
              " (0.04055411009731093, 16),\n",
              " (0.037201579571463125, 9),\n",
              " (0.03699551437754038, 24),\n",
              " (0.0369743303959401, 2),\n",
              " (0.033906322509520796, 28),\n",
              " (0.0333659565913274, 7),\n",
              " (0.03268575031606259, 14)]"
            ]
          },
          "metadata": {},
          "execution_count": 38
        }
      ]
    },
    {
      "cell_type": "code",
      "metadata": {
        "id": "62NO_yc0Ff5C"
      },
      "source": [
        "top_sentence_indices = [ranked_sentences[index][1] \n",
        "                        for index in range(num_sentences)]\n",
        "top_sentence_indices.sort()"
      ],
      "execution_count": 39,
      "outputs": []
    },
    {
      "cell_type": "code",
      "metadata": {
        "colab": {
          "base_uri": "https://localhost:8080/",
          "height": 0
        },
        "id": "idmgKnTuFiyg",
        "outputId": "ea79fe24-74a4-41aa-e60f-5374a2951eff"
      },
      "source": [
        "print('\\n'.join(np.array(sentences)[top_sentence_indices]))"
      ],
      "execution_count": 40,
      "outputs": [
        {
          "output_type": "stream",
          "name": "stdout",
          "text": [
            "A coronavirus identified in 2019, SARS-CoV-2, has caused a pandemic of respiratory illness, called COVID-19.As of now, researchers know that the coronavirus is spread through droplets and virus particles released into the air when an infected person breathes, talks, laughs, sings, coughs or sneezes.\n",
            "A person infected with the coronavirus is contagious to others for up to two days before symptoms appear, and they remain contagious to others for 10 to 20 days, depending upon their immune system and the severity of their illness.COVID-19 symptoms include: Cough Fever or chills Shortness of breath or difficulty breathing Muscle or body aches Sore throat New loss of taste or smell Diarrhea Headache New fatigue Nausea or vomiting Congestion or runny nose Some people infected with the coronavirus have mild COVID-19 illness, and others have no symptoms at all.\n",
            "Some people with the coronavirus do not have symptoms at all.\n",
            "Treatment for COVID-19 addresses the signs and symptoms of the infection and supports people with more severe disease.\n",
            "The coronavirus that causes COVID-19 is similar to the one that caused the 2003 SARS outbreak.\n",
            "Since the 2019 coronavirus is related to the original coronavirus that caused SARS and can also cause severe acute respiratory syndrome, there is “SARS” in its name: SARS-CoV-2.\n",
            "Like other viruses, the coronavirus that causes COVID-19 can change (mutate).\n",
            "Mutations may enable the coronavirus to spread faster from person to person, and may cause more severe disease.\n"
          ]
        }
      ]
    }
  ]
}